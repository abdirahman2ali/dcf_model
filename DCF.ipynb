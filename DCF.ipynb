{
 "cells": [
  {
   "cell_type": "code",
   "execution_count": 1,
   "metadata": {},
   "outputs": [],
   "source": [
    "import json\n",
    "import os\n",
    "import pandas as pd\n",
    "import numpy as np\n",
    "import urllib.request\n",
    "import requests\n",
    "import string\n",
    "import matplotlib.pyplot as plt\n",
    "import plotly.graph_objects as go\n",
    "import pandas_datareader.data as web\n",
    "import datetime"
   ]
  },
  {
   "cell_type": "code",
   "execution_count": 83,
   "metadata": {},
   "outputs": [],
   "source": [
    "key = os.environ.get('FMP_KEY')\n",
    "ticker = 'GOOG'\n",
    "#Income statement\n",
    "income = requests.get(f'https://financialmodelingprep.com/api/v3/income-statement/{ticker}?limit=120&apikey={key}')\n",
    "incomes = income.json()\n",
    "\n",
    "#Cashflow\n",
    "cf = requests.get(f'https://financialmodelingprep.com/api/v3/cash-flow-statement/{ticker}?limit=120&apikey={key}')\n",
    "cfs = cf.json()\n",
    "\n",
    "#Balance Sheet\n",
    "bs = requests.get(f'https://financialmodelingprep.com/api/v3/balance-sheet-statement/{ticker}?limit=120&apikey={key}')\n",
    "bss = bs.json()\n",
    "\n",
    "#EV\n",
    "evv = requests.get(f'https://financialmodelingprep.com/api/v3/enterprise-value/{ticker}?limit=120&apikey={key}')\n",
    "enterprise = evv.json()\n"
   ]
  },
  {
   "cell_type": "code",
   "execution_count": 84,
   "metadata": {},
   "outputs": [
    {
     "name": "stdout",
     "output_type": "stream",
     "text": [
      "0.1830008989979462\n"
     ]
    }
   ],
   "source": [
    "revenue_growth = (incomes[0]['revenue']-incomes[1]['revenue'])/incomes[1]['revenue']\n",
    "print(revenue_growth)"
   ]
  },
  {
   "cell_type": "code",
   "execution_count": 85,
   "metadata": {},
   "outputs": [],
   "source": [
    "#Income statement\n",
    "net_income = incomes[0]['netIncome']\n",
    "income_statement = pd.DataFrame.from_dict(incomes[0], orient='index')\n",
    "income_statement = income_statement[5:26]\n",
    "income_statement.columns =['current_year']\n",
    "income_statement['as_%_of_revenue']= income_statement / income_statement.iloc[0]\n",
    "\n",
    "#Forecast for the next 5 years\n",
    "income_statement['next_year'] = (income_statement['current_year']['revenue']*(1+revenue_growth)) * income_statement['as_%_of_revenue']\n",
    "income_statement['next_1_year'] = (income_statement['next_year']['revenue']*(1+revenue_growth)) * income_statement['as_%_of_revenue']\n",
    "income_statement['next_2_year'] = (income_statement['next_1_year']['revenue']*(1+revenue_growth)) * income_statement['as_%_of_revenue']\n",
    "income_statement['next_3_year'] = (income_statement['next_2_year']['revenue']*(1+revenue_growth)) * income_statement['as_%_of_revenue']\n",
    "income_statement['next_4_year'] = (income_statement['next_3_year']['revenue']*(1+revenue_growth)) * income_statement['as_%_of_revenue']\n",
    "income_statement['next_5_year'] = (income_statement['next_4_year']['revenue']*(1+revenue_growth)) * income_statement['as_%_of_revenue']"
   ]
  },
  {
   "cell_type": "code",
   "execution_count": 86,
   "metadata": {},
   "outputs": [],
   "source": [
    "#Balance Sheeet\n",
    "balance_sheet = pd.DataFrame.from_dict(bss[0], orient='index')\n",
    "balance_sheet = balance_sheet[5:-2]\n",
    "balance_sheet.columns =['current_year']\n",
    "balance_sheet['as_%_of_revenue']= balance_sheet / income_statement['current_year'].iloc[0]\n",
    "\n",
    "#Forecast for the next 5 years\n",
    "balance_sheet['next_year'] = (income_statement['current_year']['revenue']*(1+revenue_growth)) * balance_sheet['as_%_of_revenue']\n",
    "balance_sheet['next_1_year'] = (income_statement['next_year']['revenue']*(1+revenue_growth)) * balance_sheet['as_%_of_revenue']\n",
    "balance_sheet['next_2_year'] = (income_statement['next_1_year']['revenue']*(1+revenue_growth)) * balance_sheet['as_%_of_revenue']\n",
    "balance_sheet['next_3_year'] = (income_statement['next_2_year']['revenue']*(1+revenue_growth)) * balance_sheet['as_%_of_revenue']\n",
    "balance_sheet['next_4_year'] = (income_statement['next_3_year']['revenue']*(1+revenue_growth)) * balance_sheet['as_%_of_revenue']\n",
    "balance_sheet['next_5_year'] = (income_statement['next_4_year']['revenue']*(1+revenue_growth)) * balance_sheet['as_%_of_revenue']"
   ]
  },
  {
   "cell_type": "code",
   "execution_count": 87,
   "metadata": {},
   "outputs": [],
   "source": [
    "#Forcast next years cash flow\n",
    "CF_forecast = {}\n",
    "CF_forecast['next_year'] = {}\n",
    "CF_forecast['next_year']['netIncome'] = income_statement['next_year']['netIncome']\n",
    "CF_forecast['next_year']['inc_depreciation'] = income_statement['next_year']['depreciationAndAmortization'] - income_statement['current_year']['depreciationAndAmortization']\n",
    "CF_forecast['next_year']['inc_receivables'] = balance_sheet['next_year']['netReceivables'] - balance_sheet['current_year']['netReceivables']\n",
    "CF_forecast['next_year']['inc_inventory'] = balance_sheet['next_year']['inventory'] - balance_sheet['current_year']['inventory']\n",
    "CF_forecast['next_year']['inc_payables'] = balance_sheet['next_year']['accountPayables'] - balance_sheet['current_year']['accountPayables']\n",
    "CF_forecast['next_year']['CF_operations'] = CF_forecast['next_year']['netIncome'] + CF_forecast['next_year']['inc_depreciation'] + (CF_forecast['next_year']['inc_receivables'] * -1) + (CF_forecast['next_year']['inc_inventory'] *-1) + CF_forecast['next_year']['inc_payables']\n",
    "CF_forecast['next_year']['CAPEX'] = balance_sheet['next_year']['propertyPlantEquipmentNet'] - balance_sheet['current_year']['propertyPlantEquipmentNet'] + income_statement['next_year']['depreciationAndAmortization']\n",
    "\n",
    "CF_forecast['next_year']['FCF'] = CF_forecast['next_year']['CAPEX'] + CF_forecast['next_year']['CF_operations']"
   ]
  },
  {
   "cell_type": "code",
   "execution_count": 90,
   "metadata": {},
   "outputs": [],
   "source": [
    "#Forecast year 2 in cash flow\n",
    "CF_forecast['next_2_year'] = {}\n",
    "CF_forecast['next_2_year']['netIncome'] = income_statement['next_2_year']['netIncome']\n",
    "\n",
    "CF_forecast['next_2_year']['inc_depreciation'] = income_statement['next_2_year']['depreciationAndAmortization'] - income_statement['next_year']['depreciationAndAmortization']\n",
    "CF_forecast['next_2_year']['inc_receivables'] = balance_sheet['next_2_year']['netReceivables'] - balance_sheet['next_year']['netReceivables']\n",
    "CF_forecast['next_2_year']['inc_inventory'] = balance_sheet['next_2_year']['inventory'] - balance_sheet['next_year']['inventory']\n",
    "CF_forecast['next_2_year']['inc_payables'] = balance_sheet['next_2_year']['accountPayables'] - balance_sheet['next_year']['accountPayables']\n",
    "CF_forecast['next_2_year']['CF_operations'] = CF_forecast['next_2_year']['netIncome'] + CF_forecast['next_2_year']['inc_depreciation'] + (CF_forecast['next_2_year']['inc_receivables'] * -1) + (CF_forecast['next_2_year']['inc_inventory'] *-1) + CF_forecast['next_2_year']['inc_payables']\n",
    "CF_forecast['next_2_year']['CAPEX'] = balance_sheet['next_2_year']['propertyPlantEquipmentNet'] - balance_sheet['next_year']['propertyPlantEquipmentNet'] + income_statement['next_2_year']['depreciationAndAmortization']\n",
    "CF_forecast['next_2_year']['FCF'] = CF_forecast['next_2_year']['CAPEX'] + CF_forecast['next_2_year']['CF_operations']"
   ]
  },
  {
   "cell_type": "code",
   "execution_count": 91,
   "metadata": {},
   "outputs": [],
   "source": [
    "#Forecast year 3 in cash flow\n",
    "CF_forecast['next_3_year'] = {}\n",
    "CF_forecast['next_3_year']['netIncome'] = income_statement['next_3_year']['netIncome']\n",
    "\n",
    "CF_forecast['next_3_year']['inc_depreciation'] = income_statement['next_3_year']['depreciationAndAmortization'] - income_statement['next_2_year']['depreciationAndAmortization']\n",
    "CF_forecast['next_3_year']['inc_receivables'] = balance_sheet['next_3_year']['netReceivables'] - balance_sheet['next_2_year']['netReceivables']\n",
    "CF_forecast['next_3_year']['inc_inventory'] = balance_sheet['next_3_year']['inventory'] - balance_sheet['next_2_year']['inventory']\n",
    "CF_forecast['next_3_year']['inc_payables'] = balance_sheet['next_3_year']['accountPayables'] - balance_sheet['next_2_year']['accountPayables']\n",
    "CF_forecast['next_3_year']['CF_operations'] = CF_forecast['next_3_year']['netIncome'] + CF_forecast['next_3_year']['inc_depreciation'] + (CF_forecast['next_3_year']['inc_receivables'] * -1) + (CF_forecast['next_3_year']['inc_inventory'] *-1) + CF_forecast['next_3_year']['inc_payables']\n",
    "CF_forecast['next_3_year']['CAPEX'] = balance_sheet['next_3_year']['propertyPlantEquipmentNet'] - balance_sheet['next_2_year']['propertyPlantEquipmentNet'] + income_statement['next_3_year']['depreciationAndAmortization']\n",
    "CF_forecast['next_3_year']['FCF'] = CF_forecast['next_3_year']['CAPEX'] + CF_forecast['next_3_year']['CF_operations']"
   ]
  },
  {
   "cell_type": "code",
   "execution_count": 92,
   "metadata": {},
   "outputs": [],
   "source": [
    "#Forecast year 4 in cash flow\n",
    "CF_forecast['next_4_year'] = {}\n",
    "CF_forecast['next_4_year']['netIncome'] = income_statement['next_4_year']['netIncome']\n",
    "\n",
    "CF_forecast['next_4_year']['inc_depreciation'] = income_statement['next_4_year']['depreciationAndAmortization'] - income_statement['next_3_year']['depreciationAndAmortization']\n",
    "CF_forecast['next_4_year']['inc_receivables'] = balance_sheet['next_4_year']['netReceivables'] - balance_sheet['next_3_year']['netReceivables']\n",
    "CF_forecast['next_4_year']['inc_inventory'] = balance_sheet['next_4_year']['inventory'] - balance_sheet['next_3_year']['inventory']\n",
    "CF_forecast['next_4_year']['inc_payables'] = balance_sheet['next_4_year']['accountPayables'] - balance_sheet['next_3_year']['accountPayables']\n",
    "CF_forecast['next_4_year']['CF_operations'] = CF_forecast['next_4_year']['netIncome'] + CF_forecast['next_4_year']['inc_depreciation'] + (CF_forecast['next_4_year']['inc_receivables'] * -1) + (CF_forecast['next_4_year']['inc_inventory'] *-1) + CF_forecast['next_4_year']['inc_payables']\n",
    "CF_forecast['next_4_year']['CAPEX'] = balance_sheet['next_4_year']['propertyPlantEquipmentNet'] - balance_sheet['next_3_year']['propertyPlantEquipmentNet'] + income_statement['next_4_year']['depreciationAndAmortization']\n",
    "CF_forecast['next_4_year']['FCF'] = CF_forecast['next_4_year']['CAPEX'] + CF_forecast['next_4_year']['CF_operations']\n"
   ]
  },
  {
   "cell_type": "code",
   "execution_count": 93,
   "metadata": {},
   "outputs": [],
   "source": [
    "#Forecast year 5 in cash flow\n",
    "CF_forecast['next_5_year'] = {}\n",
    "CF_forecast['next_5_year']['netIncome'] = income_statement['next_5_year']['netIncome']\n",
    "\n",
    "CF_forecast['next_5_year']['inc_depreciation'] = income_statement['next_5_year']['depreciationAndAmortization'] - income_statement['next_4_year']['depreciationAndAmortization']\n",
    "CF_forecast['next_5_year']['inc_receivables'] = balance_sheet['next_5_year']['netReceivables'] - balance_sheet['next_4_year']['netReceivables']\n",
    "CF_forecast['next_5_year']['inc_inventory'] = balance_sheet['next_5_year']['inventory'] - balance_sheet['next_4_year']['inventory']\n",
    "CF_forecast['next_5_year']['inc_payables'] = balance_sheet['next_5_year']['accountPayables'] - balance_sheet['next_4_year']['accountPayables']\n",
    "CF_forecast['next_5_year']['CF_operations'] = CF_forecast['next_5_year']['netIncome'] + CF_forecast['next_5_year']['inc_depreciation'] + (CF_forecast['next_5_year']['inc_receivables'] * -1) + (CF_forecast['next_5_year']['inc_inventory'] *-1) + CF_forecast['next_5_year']['inc_payables']\n",
    "CF_forecast['next_5_year']['CAPEX'] = balance_sheet['next_5_year']['propertyPlantEquipmentNet'] - balance_sheet['next_4_year']['propertyPlantEquipmentNet'] + income_statement['next_5_year']['depreciationAndAmortization']\n",
    "CF_forecast['next_5_year']['FCF'] = CF_forecast['next_5_year']['CAPEX'] + CF_forecast['next_5_year']['CF_operations']"
   ]
  },
  {
   "cell_type": "code",
   "execution_count": 94,
   "metadata": {
    "scrolled": true
   },
   "outputs": [
    {
     "data": {
      "text/html": [
       "<div>\n",
       "<style scoped>\n",
       "    .dataframe tbody tr th:only-of-type {\n",
       "        vertical-align: middle;\n",
       "    }\n",
       "\n",
       "    .dataframe tbody tr th {\n",
       "        vertical-align: top;\n",
       "    }\n",
       "\n",
       "    .dataframe thead th {\n",
       "        text-align: right;\n",
       "    }\n",
       "</style>\n",
       "<table border=\"1\" class=\"dataframe\">\n",
       "  <thead>\n",
       "    <tr style=\"text-align: right;\">\n",
       "      <th></th>\n",
       "      <th>next_year</th>\n",
       "      <th>next_2_quarter</th>\n",
       "      <th>next_3_year</th>\n",
       "      <th>next_2_year</th>\n",
       "      <th>next_4_year</th>\n",
       "      <th>next_5_year</th>\n",
       "    </tr>\n",
       "  </thead>\n",
       "  <tbody>\n",
       "    <tr>\n",
       "      <th>netIncome</th>\n",
       "      <td>40,627,799,874</td>\n",
       "      <td>nan</td>\n",
       "      <td>67,263,355,465</td>\n",
       "      <td>56,858,245,435</td>\n",
       "      <td>79,572,609,985</td>\n",
       "      <td>94,134,469,147</td>\n",
       "    </tr>\n",
       "    <tr>\n",
       "      <th>inc_depreciation</th>\n",
       "      <td>2,155,933,591</td>\n",
       "      <td>nan</td>\n",
       "      <td>3,569,362,061</td>\n",
       "      <td>5,567,681,308</td>\n",
       "      <td>4,222,558,527</td>\n",
       "      <td>4,995,290,534</td>\n",
       "    </tr>\n",
       "    <tr>\n",
       "      <th>inc_receivables</th>\n",
       "      <td>5,031,060,715</td>\n",
       "      <td>nan</td>\n",
       "      <td>8,329,420,404</td>\n",
       "      <td>12,992,674,180</td>\n",
       "      <td>9,853,711,826</td>\n",
       "      <td>11,656,949,949</td>\n",
       "    </tr>\n",
       "    <tr>\n",
       "      <th>inc_inventory</th>\n",
       "      <td>182,817,898</td>\n",
       "      <td>nan</td>\n",
       "      <td>302,673,177</td>\n",
       "      <td>472,125,764</td>\n",
       "      <td>358,062,641</td>\n",
       "      <td>423,588,426</td>\n",
       "    </tr>\n",
       "    <tr>\n",
       "      <th>inc_payables</th>\n",
       "      <td>1,017,667,999</td>\n",
       "      <td>nan</td>\n",
       "      <td>1,684,850,388</td>\n",
       "      <td>2,628,119,493</td>\n",
       "      <td>1,993,179,524</td>\n",
       "      <td>2,357,933,168</td>\n",
       "    </tr>\n",
       "    <tr>\n",
       "      <th>CF_operations</th>\n",
       "      <td>38,587,522,851</td>\n",
       "      <td>nan</td>\n",
       "      <td>63,885,474,333</td>\n",
       "      <td>51,589,246,292</td>\n",
       "      <td>75,576,573,568</td>\n",
       "      <td>89,407,154,475</td>\n",
       "    </tr>\n",
       "    <tr>\n",
       "      <th>CAPEX</th>\n",
       "      <td>29,416,430,635</td>\n",
       "      <td>nan</td>\n",
       "      <td>48,701,820,832</td>\n",
       "      <td>59,480,292,581</td>\n",
       "      <td>57,614,297,827</td>\n",
       "      <td>68,157,766,125</td>\n",
       "    </tr>\n",
       "    <tr>\n",
       "      <th>FCF</th>\n",
       "      <td>68,003,953,486</td>\n",
       "      <td>nan</td>\n",
       "      <td>112,587,295,165</td>\n",
       "      <td>111,069,538,873</td>\n",
       "      <td>133,190,871,396</td>\n",
       "      <td>157,564,920,599</td>\n",
       "    </tr>\n",
       "  </tbody>\n",
       "</table>\n",
       "</div>"
      ],
      "text/plain": [
       "                      next_year  next_2_quarter     next_3_year  \\\n",
       "netIncome        40,627,799,874             nan  67,263,355,465   \n",
       "inc_depreciation  2,155,933,591             nan   3,569,362,061   \n",
       "inc_receivables   5,031,060,715             nan   8,329,420,404   \n",
       "inc_inventory       182,817,898             nan     302,673,177   \n",
       "inc_payables      1,017,667,999             nan   1,684,850,388   \n",
       "CF_operations    38,587,522,851             nan  63,885,474,333   \n",
       "CAPEX            29,416,430,635             nan  48,701,820,832   \n",
       "FCF              68,003,953,486             nan 112,587,295,165   \n",
       "\n",
       "                     next_2_year     next_4_year     next_5_year  \n",
       "netIncome         56,858,245,435  79,572,609,985  94,134,469,147  \n",
       "inc_depreciation   5,567,681,308   4,222,558,527   4,995,290,534  \n",
       "inc_receivables   12,992,674,180   9,853,711,826  11,656,949,949  \n",
       "inc_inventory        472,125,764     358,062,641     423,588,426  \n",
       "inc_payables       2,628,119,493   1,993,179,524   2,357,933,168  \n",
       "CF_operations     51,589,246,292  75,576,573,568  89,407,154,475  \n",
       "CAPEX             59,480,292,581  57,614,297,827  68,157,766,125  \n",
       "FCF              111,069,538,873 133,190,871,396 157,564,920,599  "
      ]
     },
     "execution_count": 94,
     "metadata": {},
     "output_type": "execute_result"
    }
   ],
   "source": [
    "#add the forecasted cash flows into a Pandas\n",
    "CF_forec = pd.DataFrame.from_dict(CF_forecast,orient='columns')\n",
    "\n",
    "#add below option to format the dataframe with thousand separators\n",
    "pd.options.display.float_format = '{:,.0f}'.format\n",
    "\n",
    "CF_forec"
   ]
  },
  {
   "cell_type": "code",
   "execution_count": 95,
   "metadata": {},
   "outputs": [],
   "source": [
    "def interest_coveraga_and_RF(ticker):\n",
    "  IS= requests.get(f'https://financialmodelingprep.com/api/v3/income-statement/{ticker}?apikey={key}').json()\n",
    "  EBIT= IS[0]['ebitda'] - IS[0]['depreciationAndAmortization'] \n",
    "  interest_expense = IS[0]['interestExpense']\n",
    "  interest_coverage_ratio = EBIT/interest_expense\n",
    "\n",
    "    #RF\n",
    "  start = datetime.datetime(2019, 9, 26)\n",
    "        \n",
    "  end= datetime.datetime.today().strftime('%Y-%m-%d')\n",
    "  #end = datetime.datetime(2020, 9, 30)\n",
    "\n",
    "  Treasury = web.DataReader(['TB1YR'], 'fred', start, end)\n",
    "  RF = float(Treasury.iloc[-1])\n",
    "  RF = RF/100\n",
    "  return [RF,interest_coverage_ratio]"
   ]
  },
  {
   "cell_type": "code",
   "execution_count": 67,
   "metadata": {},
   "outputs": [],
   "source": [
    "#Cost of debt\n",
    "def cost_of_debt(ticker, RF,interest_coverage_ratio):\n",
    "  if interest_coverage_ratio > 8.5:\n",
    "    #Rating is AAA\n",
    "    credit_spread = 0.0063\n",
    "  if (interest_coverage_ratio > 6.5) & (interest_coverage_ratio <= 8.5):\n",
    "    #Rating is AA\n",
    "    credit_spread = 0.0078\n",
    "  if (interest_coverage_ratio > 5.5) & (interest_coverage_ratio <=  6.5):\n",
    "    #Rating is A+\n",
    "    credit_spread = 0.0098\n",
    "  if (interest_coverage_ratio > 4.25) & (interest_coverage_ratio <=  5.49):\n",
    "    #Rating is A\n",
    "    credit_spread = 0.0108\n",
    "  if (interest_coverage_ratio > 3) & (interest_coverage_ratio <=  4.25):\n",
    "    #Rating is A-\n",
    "    credit_spread = 0.0122\n",
    "  if (interest_coverage_ratio > 2.5) & (interest_coverage_ratio <=  3):\n",
    "    #Rating is BBB\n",
    "    credit_spread = 0.0156\n",
    "  if (interest_coverage_ratio > 2.25) & (interest_coverage_ratio <=  2.5):\n",
    "    #Rating is BB+\n",
    "    credit_spread = 0.02\n",
    "  if (interest_coverage_ratio > 2) & (interest_coverage_ratio <=  2.25):\n",
    "    #Rating is BB\n",
    "    credit_spread = 0.0240\n",
    "  if (interest_coverage_ratio > 1.75) & (interest_coverage_ratio <=  2):\n",
    "    #Rating is B+\n",
    "    credit_spread = 0.0351\n",
    "  if (interest_coverage_ratio > 1.5) & (interest_coverage_ratio <=  1.75):\n",
    "    #Rating is B\n",
    "    credit_spread = 0.0421\n",
    "  if (interest_coverage_ratio > 1.25) & (interest_coverage_ratio <=  1.5):\n",
    "    #Rating is B-\n",
    "    credit_spread = 0.0515\n",
    "  if (interest_coverage_ratio > 0.8) & (interest_coverage_ratio <=  1.25):\n",
    "    #Rating is CCC\n",
    "    credit_spread = 0.0820\n",
    "  if (interest_coverage_ratio > 0.65) & (interest_coverage_ratio <=  0.8):\n",
    "    #Rating is CC\n",
    "    credit_spread = 0.0864\n",
    "  if (interest_coverage_ratio > 0.2) & (interest_coverage_ratio <=  0.65):\n",
    "    #Rating is C\n",
    "    credit_spread = 0.1134\n",
    "  if interest_coverage_ratio <=  0.2:\n",
    "    #Rating is D\n",
    "    credit_spread = 0.1512\n",
    "  \n",
    "  cost_of_debt = RF + credit_spread\n",
    "  return cost_of_debt"
   ]
  },
  {
   "cell_type": "code",
   "execution_count": 68,
   "metadata": {},
   "outputs": [],
   "source": [
    "def costofequity(ticker):\n",
    "\n",
    "\n",
    "  #RF\n",
    "  start = datetime.datetime(2019, 9, 26)\n",
    "  end= datetime.datetime.today().strftime('%Y-%m-%d')\n",
    "\n",
    "  Treasury = web.DataReader(['TB1YR'], 'fred', start, end)\n",
    "  RF = float(Treasury.iloc[-1])\n",
    "  RF = RF/100\n",
    "\n",
    "#Beta\n",
    "\n",
    "  beta = requests.get(f'https://financialmodelingprep.com/api/v3/company/profile/{ticker}?apikey={key}')\n",
    "  beta = beta.json()\n",
    "  beta = float(beta['profile']['beta'])\n",
    "\n",
    "\n",
    "  #Market Return\n",
    "  start = datetime.datetime(2019, 7, 10)\n",
    "  end= datetime.datetime.today().strftime('%Y-%m-%d')\n",
    "\n",
    "  SP500 = web.DataReader(['sp500'], 'fred', start, end)\n",
    "      #Drop all Not a number values using drop method.\n",
    "  SP500.dropna(inplace = True)\n",
    "\n",
    "  SP500yearlyreturn = (SP500['sp500'].iloc[-1]/ SP500['sp500'].iloc[-252])-1\n",
    "    \n",
    "  cost_of_equity = RF+(beta*(SP500yearlyreturn - RF))\n",
    "  return cost_of_equity"
   ]
  },
  {
   "cell_type": "code",
   "execution_count": 69,
   "metadata": {},
   "outputs": [],
   "source": [
    "#effective tax rate and capital structure\n",
    "def wacc(ticker):\n",
    "  FR = requests.get(f'https://financialmodelingprep.com/api/v3/ratios/{ticker}?apikey={key}').json()\n",
    "\n",
    "  ETR = FR[0]['effectiveTaxRate']\n",
    "\n",
    "# \n",
    "  BS = requests.get(f'https://financialmodelingprep.com/api/v3/balance-sheet-statement/{ticker}?period=quarter&apikey={key}').json()\n",
    "\n",
    "\n",
    "\n",
    "  Debt_to = BS[0]['totalDebt'] / (BS[0]['totalDebt'] + BS[0]['totalStockholdersEquity'])\n",
    "  equity_to = BS[0]['totalStockholdersEquity'] / (BS[0]['totalDebt'] + BS[0]['totalStockholdersEquity'])\n",
    "\n",
    "  WACC = (kd*(1-ETR)*Debt_to) + (ke*equity_to)\n",
    "  return WACC"
   ]
  },
  {
   "cell_type": "code",
   "execution_count": 70,
   "metadata": {},
   "outputs": [
    {
     "name": "stdout",
     "output_type": "stream",
     "text": [
      "wacc of GOOG is 13.731845107955012%\n"
     ]
    }
   ],
   "source": [
    "RF_and_IntCov = interest_coveraga_and_RF(ticker)\n",
    "RF = RF_and_IntCov[0]\n",
    "interest_coverage_ratio = RF_and_IntCov[1]\n",
    "ke = costofequity(ticker)\n",
    "kd = cost_of_debt(ticker,RF,interest_coverage_ratio)\n",
    "wacc_company = wacc(ticker)\n",
    "print('wacc of ' + ticker + ' is ' + str((wacc_company*100))+'%')"
   ]
  },
  {
   "cell_type": "code",
   "execution_count": 71,
   "metadata": {},
   "outputs": [
    {
     "name": "stderr",
     "output_type": "stream",
     "text": [
      "/Users/abdirahmanali/.pyenv/versions/3.7.3/lib/python3.7/site-packages/ipykernel_launcher.py:3: DeprecationWarning: numpy.npv is deprecated and will be removed from NumPy 1.20. Use numpy_financial.npv instead (https://pypi.org/project/numpy-financial/).\n",
      "  This is separate from the ipykernel package so we can avoid doing imports until\n"
     ]
    }
   ],
   "source": [
    "#FCF List of CFs for each year\n",
    "FCF_List = CF_forec.iloc[-1].values.tolist()\n",
    "npv = np.npv(wacc_company,FCF_List)"
   ]
  },
  {
   "cell_type": "code",
   "execution_count": 72,
   "metadata": {},
   "outputs": [
    {
     "data": {
      "text/plain": [
       "818775891592.3005"
      ]
     },
     "execution_count": 72,
     "metadata": {},
     "output_type": "execute_result"
    }
   ],
   "source": [
    "#Terminal value\n",
    "LTGrowth = 0.02\n",
    "\n",
    "Terminal_value = (CF_forecast['next_5_year']['FCF'] * (1+ LTGrowth)) /(wacc_company - LTGrowth)\n",
    "\n",
    "Terminal_value_Discounted = Terminal_value/(1+wacc_company)**4\n",
    "Terminal_value_Discounted"
   ]
  },
  {
   "cell_type": "code",
   "execution_count": 73,
   "metadata": {},
   "outputs": [
    {
     "name": "stdout",
     "output_type": "stream",
     "text": [
      "GOOG forecasted price per stock is  $1807.32\n",
      "the forecast is based on the following assumptions: revenue growth: 0.1830008989979462 Cost of Capital: 0.13731845107955012\n",
      "perpetuity growth: 0.02\n"
     ]
    }
   ],
   "source": [
    "target_equity_value = Terminal_value_Discounted + npv\n",
    "debt = balance_sheet['current_year']['totalDebt']\n",
    "target_value = target_equity_value - debt\n",
    "numbre_of_shares = requests.get(f'https://financialmodelingprep.com/api/v3/enterprise-values/{ticker}?apikey={key}').json()\n",
    "numbre_of_shares = numbre_of_shares[0]['numberOfShares']\n",
    "\n",
    "target_price_per_share = round(target_value/numbre_of_shares,2)\n",
    "target_price_per_share\n",
    "\n",
    "print(ticker + ' forecasted price per stock is ' + ' $'+str(target_price_per_share) )\n",
    "print('the forecast is based on the following assumptions: '+ 'revenue growth: ' + str(revenue_growth) + ' Cost of Capital: ' + str(wacc_company) )\n",
    "print('perpetuity growth: ' + str(LTGrowth) )"
   ]
  },
  {
   "cell_type": "markdown",
   "metadata": {},
   "source": [
    "#### Model estimates that each stock is worth 1631. This is cheap since its trading below the current price of 1781. Some of the challenges with DCF model is the amount of estimations that we need to perform. We need to estimate how much the company is going to grow. If we get that wrong, our model will not give good results.\n",
    "\n",
    "#### When we change the revenue_growth rate, it automatically changes the overall value of each stock. That is why it is good practice to estimate 3 scenerios for the growth values. One with an optimistic growth rate, likely outcome, and a pessimistic outlook. Then you get the average of the 3 scenerios to get an estimated value."
   ]
  }
 ],
 "metadata": {
  "kernelspec": {
   "display_name": "Python 3",
   "language": "python",
   "name": "python3"
  },
  "language_info": {
   "codemirror_mode": {
    "name": "ipython",
    "version": 3
   },
   "file_extension": ".py",
   "mimetype": "text/x-python",
   "name": "python",
   "nbconvert_exporter": "python",
   "pygments_lexer": "ipython3",
   "version": "3.7.3"
  }
 },
 "nbformat": 4,
 "nbformat_minor": 4
}
